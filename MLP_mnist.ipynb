{
 "cells": [
  {
   "cell_type": "markdown",
   "id": "2aeedc16",
   "metadata": {},
   "source": [
    "# 作业第二周  MLP模型练习fashion_mnist分类操作"
   ]
  },
  {
   "cell_type": "raw",
   "id": "c6923abd",
   "metadata": {},
   "source": [
    "仿照课件完成fashion_mnist的分类操作：\n",
    "1.练习keras内置数据集fashion_mnist的读取与操作。\n",
    "Fashion-MNIST克隆了MNIST的所有外在特征： 60000张训练图像和对应Label； 10000张测试图像和对应Label； 10个类别；\n",
    "(train_images, train_labels),(test_images,test_labels)= tf.keras.datasets.fashion_mnist.load_data()\n",
    "\n",
    "2.设计一个简单多层感知机网络，训练fashion_mnist的分类操作。\n",
    "(打印loss变化曲线曲线，显示测试集最后的预测准确率、混淆矩阵、典型误判图像等)"
   ]
  },
  {
   "cell_type": "code",
   "execution_count": 1,
   "id": "9f468769",
   "metadata": {},
   "outputs": [
    {
     "ename": "ModuleNotFoundError",
     "evalue": "No module named 'GPU'",
     "output_type": "error",
     "traceback": [
      "\u001b[1;31m---------------------------------------------------------------------------\u001b[0m",
      "\u001b[1;31mModuleNotFoundError\u001b[0m                       Traceback (most recent call last)",
      "\u001b[1;32m~\\AppData\\Local\\Temp\\ipykernel_16688\\2783479666.py\u001b[0m in \u001b[0;36m<module>\u001b[1;34m\u001b[0m\n\u001b[0;32m      1\u001b[0m \u001b[1;31m#首先执行GPU资源分配代码，勿删除。\u001b[0m\u001b[1;33m\u001b[0m\u001b[1;33m\u001b[0m\u001b[0m\n\u001b[1;32m----> 2\u001b[1;33m \u001b[1;32mimport\u001b[0m \u001b[0mGPU\u001b[0m\u001b[1;33m\u001b[0m\u001b[1;33m\u001b[0m\u001b[0m\n\u001b[0m\u001b[0;32m      3\u001b[0m \u001b[0mGPU\u001b[0m\u001b[1;33m.\u001b[0m\u001b[0mshow\u001b[0m\u001b[1;33m(\u001b[0m\u001b[1;33m)\u001b[0m\u001b[1;33m\u001b[0m\u001b[1;33m\u001b[0m\u001b[0m\n\u001b[0;32m      4\u001b[0m \u001b[0mGPU\u001b[0m\u001b[1;33m.\u001b[0m\u001b[0malloc\u001b[0m\u001b[1;33m(\u001b[0m\u001b[1;36m0\u001b[0m\u001b[1;33m,\u001b[0m\u001b[1;36m512\u001b[0m\u001b[1;33m)\u001b[0m\u001b[1;33m\u001b[0m\u001b[1;33m\u001b[0m\u001b[0m\n",
      "\u001b[1;31mModuleNotFoundError\u001b[0m: No module named 'GPU'"
     ]
    }
   ],
   "source": [
    "#首先执行GPU资源分配代码，勿删除。\n",
    "import GPU\n",
    "GPU.show()\n",
    "GPU.alloc(0,512)"
   ]
  },
  {
   "cell_type": "code",
   "execution_count": 17,
   "id": "b84099c5",
   "metadata": {},
   "outputs": [],
   "source": [
    "import tensorflow as tf\n",
    "import keras\n",
    "import numpy as np\n",
    "from keras.utils import np_utils\n",
    "from keras.datasets import fashion_mnist\n",
    "(x_train,y_train),(x_test,y_test)=fashion_mnist.load_data()"
   ]
  },
  {
   "cell_type": "code",
   "execution_count": 3,
   "id": "2e15a55a",
   "metadata": {},
   "outputs": [],
   "source": [
    "num_epochs = 1        #训练的周期\n",
    "batch_size = 100      #批训练的数量\n",
    "learning_rate = 0.001 #学习率（0.1,0.01,0.001）"
   ]
  },
  {
   "cell_type": "code",
   "execution_count": 41,
   "id": "90b7a864",
   "metadata": {},
   "outputs": [
    {
     "data": {
      "image/png": "[encoded data removed]",
      "text/plain": [
       "<Figure size 144x144 with 1 Axes>"
      ]
     },
     "metadata": {
      "needs_background": "light"
     },
     "output_type": "display_data"
    }
   ],
   "source": [
    "import matplotlib.pyplot as plt\n",
    "def plot_image(image):\n",
    "    fig = plt.gcf()\n",
    "    fig.set_size_inches(2, 2) # 设置图片大小\n",
    "    plt.imshow(image, cmap='binary') #显示灰度图\n",
    "    plt.show()\n",
    "plot_image(x_train[0])\n",
    "\n"
   ]
  },
  {
   "cell_type": "code",
   "execution_count": 5,
   "id": "3f7390f5",
   "metadata": {},
   "outputs": [
    {
     "data": {
      "text/plain": [
       "array([[0., 0., 0., 0., 0., 0., 0., 0., 0., 1.],\n",
       "       [1., 0., 0., 0., 0., 0., 0., 0., 0., 0.],\n",
       "       [1., 0., 0., 0., 0., 0., 0., 0., 0., 0.]], dtype=float32)"
      ]
     },
     "execution_count": 5,
     "metadata": {},
     "output_type": "execute_result"
    }
   ],
   "source": [
    "x_Train =x_train.reshape(60000, 784).astype('float32')\n",
    "x_Test = x_test.reshape(10000, 784).astype('float32')\n",
    "\n",
    "\n",
    "\n",
    "x_Train_normalize = x_Train/ 255\n",
    "x_Test_normalize = x_Test/ 255\n",
    "\n",
    "y_TrainOneHot = np_utils.to_categorical(y_train)\n",
    "y_TestOneHot = np_utils.to_categorical(y_test)\n",
    "y_TrainOneHot[:3]"
   ]
  },
  {
   "cell_type": "code",
   "execution_count": 6,
   "id": "09be6ca9",
   "metadata": {},
   "outputs": [],
   "source": [
    "from keras.models import Sequential\n",
    "from keras.layers import Dense\n",
    "\n",
    " #后续的组件用model.add的方法\n",
    "model = Sequential()\n",
    "\n",
    "# 建立输入层和隐藏层\n",
    "model.add(Dense(units=256, #隐藏层神经元个数256\n",
    "                input_dim=784, #输入层784\n",
    "                kernel_initializer='normal',#正态分布的随机数来初始化weight and bias\n",
    "                activation='relu')) # activation function is relu\n",
    "# 建立输出层\n",
    "model.add(Dense(units=10, #输出层的神经元个数为10个\n",
    "                kernel_initializer='normal', #正态分布的随机数来初始化weight and bias\n",
    "                activation='softmax'))# 激活函数为softmax，其可将输出转化为预测的概率\n"
   ]
  },
  {
   "cell_type": "code",
   "execution_count": 7,
   "id": "e041816a",
   "metadata": {},
   "outputs": [
    {
     "name": "stdout",
     "output_type": "stream",
     "text": [
      "Model: \"sequential\"\n",
      "_________________________________________________________________\n",
      " Layer (type)                Output Shape              Param #   \n",
      "=================================================================\n",
      " dense (Dense)               (None, 256)               200960    \n",
      "                                                                 \n",
      " dense_1 (Dense)             (None, 10)                2570      \n",
      "                                                                 \n",
      "=================================================================\n",
      "Total params: 203,530\n",
      "Trainable params: 203,530\n",
      "Non-trainable params: 0\n",
      "_________________________________________________________________\n",
      "None\n"
     ]
    }
   ],
   "source": [
    "print(model.summary())"
   ]
  },
  {
   "cell_type": "code",
   "execution_count": 8,
   "id": "14d4e369",
   "metadata": {},
   "outputs": [],
   "source": [
    "model.compile(loss='categorical_crossentropy',optimizer='adam', metrics=['accuracy'])"
   ]
  },
  {
   "cell_type": "code",
   "execution_count": 9,
   "id": "bcd3d30d",
   "metadata": {},
   "outputs": [
    {
     "name": "stdout",
     "output_type": "stream",
     "text": [
      "Epoch 1/20\n",
      "240/240 - 3s - loss: 0.5995 - accuracy: 0.7958 - val_loss: 0.4687 - val_accuracy: 0.8340 - 3s/epoch - 12ms/step\n",
      "Epoch 2/20\n",
      "240/240 - 1s - loss: 0.4192 - accuracy: 0.8528 - val_loss: 0.4293 - val_accuracy: 0.8527 - 990ms/epoch - 4ms/step\n",
      "Epoch 3/20\n",
      "240/240 - 1s - loss: 0.3750 - accuracy: 0.8666 - val_loss: 0.3808 - val_accuracy: 0.8671 - 1s/epoch - 5ms/step\n",
      "Epoch 4/20\n",
      "240/240 - 1s - loss: 0.3436 - accuracy: 0.8786 - val_loss: 0.3629 - val_accuracy: 0.8712 - 916ms/epoch - 4ms/step\n",
      "Epoch 5/20\n",
      "240/240 - 1s - loss: 0.3254 - accuracy: 0.8824 - val_loss: 0.3505 - val_accuracy: 0.8729 - 839ms/epoch - 3ms/step\n",
      "Epoch 6/20\n",
      "240/240 - 1s - loss: 0.3060 - accuracy: 0.8887 - val_loss: 0.3356 - val_accuracy: 0.8792 - 923ms/epoch - 4ms/step\n",
      "Epoch 7/20\n",
      "240/240 - 1s - loss: 0.2905 - accuracy: 0.8950 - val_loss: 0.3431 - val_accuracy: 0.8767 - 898ms/epoch - 4ms/step\n",
      "Epoch 8/20\n",
      "240/240 - 1s - loss: 0.2835 - accuracy: 0.8969 - val_loss: 0.3228 - val_accuracy: 0.8848 - 954ms/epoch - 4ms/step\n",
      "Epoch 9/20\n",
      "240/240 - 1s - loss: 0.2699 - accuracy: 0.9016 - val_loss: 0.3252 - val_accuracy: 0.8838 - 926ms/epoch - 4ms/step\n",
      "Epoch 10/20\n",
      "240/240 - 1s - loss: 0.2597 - accuracy: 0.9059 - val_loss: 0.3194 - val_accuracy: 0.8858 - 985ms/epoch - 4ms/step\n",
      "Epoch 11/20\n",
      "240/240 - 1s - loss: 0.2505 - accuracy: 0.9095 - val_loss: 0.3134 - val_accuracy: 0.8878 - 838ms/epoch - 3ms/step\n",
      "Epoch 12/20\n",
      "240/240 - 1s - loss: 0.2438 - accuracy: 0.9108 - val_loss: 0.3113 - val_accuracy: 0.8876 - 887ms/epoch - 4ms/step\n",
      "Epoch 13/20\n",
      "240/240 - 1s - loss: 0.2373 - accuracy: 0.9130 - val_loss: 0.3111 - val_accuracy: 0.8888 - 989ms/epoch - 4ms/step\n",
      "Epoch 14/20\n",
      "240/240 - 1s - loss: 0.2277 - accuracy: 0.9172 - val_loss: 0.3076 - val_accuracy: 0.8890 - 841ms/epoch - 4ms/step\n",
      "Epoch 15/20\n",
      "240/240 - 1s - loss: 0.2206 - accuracy: 0.9183 - val_loss: 0.3146 - val_accuracy: 0.8881 - 947ms/epoch - 4ms/step\n",
      "Epoch 16/20\n",
      "240/240 - 1s - loss: 0.2125 - accuracy: 0.9224 - val_loss: 0.3147 - val_accuracy: 0.8896 - 868ms/epoch - 4ms/step\n",
      "Epoch 17/20\n",
      "240/240 - 1s - loss: 0.2087 - accuracy: 0.9236 - val_loss: 0.3035 - val_accuracy: 0.8909 - 903ms/epoch - 4ms/step\n",
      "Epoch 18/20\n",
      "240/240 - 1s - loss: 0.1997 - accuracy: 0.9280 - val_loss: 0.3057 - val_accuracy: 0.8932 - 909ms/epoch - 4ms/step\n",
      "Epoch 19/20\n",
      "240/240 - 1s - loss: 0.1957 - accuracy: 0.9288 - val_loss: 0.3027 - val_accuracy: 0.8916 - 868ms/epoch - 4ms/step\n",
      "Epoch 20/20\n",
      "240/240 - 1s - loss: 0.1902 - accuracy: 0.9308 - val_loss: 0.2995 - val_accuracy: 0.8966 - 902ms/epoch - 4ms/step\n"
     ]
    }
   ],
   "source": [
    "train_history =model.fit(x=x_Train_normalize,\n",
    "                         y=y_TrainOneHot,validation_split=0.2, \n",
    "                         epochs=20, batch_size=200,verbose=2)\n"
   ]
  },
  {
   "cell_type": "code",
   "execution_count": 10,
   "id": "60565a20",
   "metadata": {},
   "outputs": [
    {
     "data": {
      "image/png": "[encoded data removed]",
      "text/plain": [
       "<Figure size 432x288 with 1 Axes>"
      ]
     },
     "metadata": {
      "needs_background": "light"
     },
     "output_type": "display_data"
    }
   ],
   "source": [
    "import matplotlib.pyplot as plt\n",
    "def show_train_history(train_history,train,validation):\n",
    "    plt.plot(train_history.history[train])\n",
    "    plt.plot(train_history.history[validation])\n",
    "    plt.title('Train History')\n",
    "    plt.ylabel(train)\n",
    "    plt.xlabel('Epoch')\n",
    "    plt.legend(['train', 'validation'], loc='upper left')\n",
    "    \n",
    "    plt.show()\n",
    "show_train_history(train_history,'accuracy','val_accuracy')"
   ]
  },
  {
   "cell_type": "code",
   "execution_count": 11,
   "id": "a93ad12c",
   "metadata": {},
   "outputs": [
    {
     "data": {
      "image/png": "[encoded data removed]",
      "text/plain": [
       "<Figure size 432x288 with 1 Axes>"
      ]
     },
     "metadata": {
      "needs_background": "light"
     },
     "output_type": "display_data"
    }
   ],
   "source": [
    "show_train_history(train_history,'loss','val_loss')"
   ]
  },
  {
   "cell_type": "code",
   "execution_count": 12,
   "id": "1a4278a9",
   "metadata": {},
   "outputs": [
    {
     "name": "stdout",
     "output_type": "stream",
     "text": [
      "313/313 [==============================] - 2s 4ms/step - loss: 0.3283 - accuracy: 0.8868\n",
      "\n",
      "accuracy= 0.8867999911308289\n"
     ]
    }
   ],
   "source": [
    "scores = model.evaluate(x_Test_normalize, y_TestOneHot)\n",
    "print()\n",
    "print('accuracy=',scores[1])"
   ]
  },
  {
   "cell_type": "code",
   "execution_count": 20,
   "id": "ddc37208",
   "metadata": {},
   "outputs": [
    {
     "data": {
      "image/png": "[encoded data removed]",
      "text/plain": [
       "<Figure size 432x288 with 2 Axes>"
      ]
     },
     "metadata": {
      "needs_background": "light"
     },
     "output_type": "display_data"
    }
   ],
   "source": [
    "from sklearn.metrics import confusion_matrix\n",
    "import itertools\n",
    "def plot_confusion_matrix(cm, classes,\n",
    "                          title='Confusion matrix',\n",
    "                          cmap=plt.cm.jet):\n",
    "    cm = cm.astype('float') / cm.sum(axis=1)[:, np.newaxis]\n",
    "    plt.imshow(cm, interpolation='nearest', cmap=cmap)\n",
    "    plt.title(title)\n",
    "    plt.colorbar()\n",
    "    tick_marks = np.arange(len(classes))\n",
    "    plt.xticks(tick_marks, classes, rotation=45)\n",
    "    plt.yticks(tick_marks, classes)\n",
    "    thresh = cm.max() / 2.\n",
    "    for i, j in itertools.product(range(cm.shape[0]), range(cm.shape[1])):\n",
    "        plt.text(j, i, '{:.2f}'.format(cm[i, j]), horizontalalignment=\"center\",\n",
    "                 color=\"white\" if cm[i, j] > thresh else \"black\")\n",
    "    plt.tight_layout()\n",
    "    plt.ylabel('True label')\n",
    "    plt.xlabel('Predicted label')\n",
    "    plt.show()\n",
    "\n",
    "# 显示混淆矩阵\n",
    "def plot_confuse(model, x_val, y_val):\n",
    "    predict_x=model.predict(x_val) \n",
    "    predictions=np.argmax(predict_x,axis=1)\n",
    "    truelabel = y_val.argmax(axis=-1)   # 将one-hot转化为label\n",
    "    conf_mat = confusion_matrix(y_true=truelabel, y_pred=predictions)\n",
    "    plt.figure()\n",
    "    plot_confusion_matrix(conf_mat, range(np.max(truelabel)+1))\n",
    "\n",
    "    \n",
    "plot_confuse(model, x_Test_normalize, y_TestOneHot)"
   ]
  },
  {
   "cell_type": "code",
   "execution_count": 25,
   "id": "9db40e74",
   "metadata": {},
   "outputs": [
    {
     "data": {
      "text/html": [
       "<div>\n",
       "<style scoped>\n",
       "    .dataframe tbody tr th:only-of-type {\n",
       "        vertical-align: middle;\n",
       "    }\n",
       "\n",
       "    .dataframe tbody tr th {\n",
       "        vertical-align: top;\n",
       "    }\n",
       "\n",
       "    .dataframe thead th {\n",
       "        text-align: right;\n",
       "    }\n",
       "</style>\n",
       "<table border=\"1\" class=\"dataframe\">\n",
       "  <thead>\n",
       "    <tr style=\"text-align: right;\">\n",
       "      <th>predict</th>\n",
       "      <th>0</th>\n",
       "      <th>1</th>\n",
       "      <th>2</th>\n",
       "      <th>3</th>\n",
       "      <th>4</th>\n",
       "      <th>5</th>\n",
       "      <th>6</th>\n",
       "      <th>7</th>\n",
       "      <th>8</th>\n",
       "      <th>9</th>\n",
       "    </tr>\n",
       "    <tr>\n",
       "      <th>label</th>\n",
       "      <th></th>\n",
       "      <th></th>\n",
       "      <th></th>\n",
       "      <th></th>\n",
       "      <th></th>\n",
       "      <th></th>\n",
       "      <th></th>\n",
       "      <th></th>\n",
       "      <th></th>\n",
       "      <th></th>\n",
       "    </tr>\n",
       "  </thead>\n",
       "  <tbody>\n",
       "    <tr>\n",
       "      <th>0</th>\n",
       "      <td>878</td>\n",
       "      <td>5</td>\n",
       "      <td>23</td>\n",
       "      <td>10</td>\n",
       "      <td>6</td>\n",
       "      <td>0</td>\n",
       "      <td>62</td>\n",
       "      <td>0</td>\n",
       "      <td>16</td>\n",
       "      <td>0</td>\n",
       "    </tr>\n",
       "    <tr>\n",
       "      <th>1</th>\n",
       "      <td>3</td>\n",
       "      <td>985</td>\n",
       "      <td>0</td>\n",
       "      <td>7</td>\n",
       "      <td>3</td>\n",
       "      <td>0</td>\n",
       "      <td>1</td>\n",
       "      <td>0</td>\n",
       "      <td>1</td>\n",
       "      <td>0</td>\n",
       "    </tr>\n",
       "    <tr>\n",
       "      <th>2</th>\n",
       "      <td>19</td>\n",
       "      <td>1</td>\n",
       "      <td>759</td>\n",
       "      <td>7</td>\n",
       "      <td>158</td>\n",
       "      <td>0</td>\n",
       "      <td>52</td>\n",
       "      <td>0</td>\n",
       "      <td>4</td>\n",
       "      <td>0</td>\n",
       "    </tr>\n",
       "    <tr>\n",
       "      <th>3</th>\n",
       "      <td>35</td>\n",
       "      <td>28</td>\n",
       "      <td>10</td>\n",
       "      <td>836</td>\n",
       "      <td>57</td>\n",
       "      <td>0</td>\n",
       "      <td>24</td>\n",
       "      <td>0</td>\n",
       "      <td>9</td>\n",
       "      <td>1</td>\n",
       "    </tr>\n",
       "    <tr>\n",
       "      <th>4</th>\n",
       "      <td>0</td>\n",
       "      <td>1</td>\n",
       "      <td>50</td>\n",
       "      <td>18</td>\n",
       "      <td>893</td>\n",
       "      <td>0</td>\n",
       "      <td>34</td>\n",
       "      <td>0</td>\n",
       "      <td>4</td>\n",
       "      <td>0</td>\n",
       "    </tr>\n",
       "    <tr>\n",
       "      <th>5</th>\n",
       "      <td>0</td>\n",
       "      <td>0</td>\n",
       "      <td>0</td>\n",
       "      <td>0</td>\n",
       "      <td>0</td>\n",
       "      <td>930</td>\n",
       "      <td>0</td>\n",
       "      <td>27</td>\n",
       "      <td>5</td>\n",
       "      <td>38</td>\n",
       "    </tr>\n",
       "    <tr>\n",
       "      <th>6</th>\n",
       "      <td>168</td>\n",
       "      <td>2</td>\n",
       "      <td>76</td>\n",
       "      <td>19</td>\n",
       "      <td>99</td>\n",
       "      <td>0</td>\n",
       "      <td>620</td>\n",
       "      <td>0</td>\n",
       "      <td>16</td>\n",
       "      <td>0</td>\n",
       "    </tr>\n",
       "    <tr>\n",
       "      <th>7</th>\n",
       "      <td>0</td>\n",
       "      <td>0</td>\n",
       "      <td>0</td>\n",
       "      <td>0</td>\n",
       "      <td>0</td>\n",
       "      <td>5</td>\n",
       "      <td>0</td>\n",
       "      <td>905</td>\n",
       "      <td>2</td>\n",
       "      <td>88</td>\n",
       "    </tr>\n",
       "    <tr>\n",
       "      <th>8</th>\n",
       "      <td>2</td>\n",
       "      <td>0</td>\n",
       "      <td>4</td>\n",
       "      <td>0</td>\n",
       "      <td>4</td>\n",
       "      <td>1</td>\n",
       "      <td>2</td>\n",
       "      <td>5</td>\n",
       "      <td>982</td>\n",
       "      <td>0</td>\n",
       "    </tr>\n",
       "    <tr>\n",
       "      <th>9</th>\n",
       "      <td>0</td>\n",
       "      <td>0</td>\n",
       "      <td>0</td>\n",
       "      <td>0</td>\n",
       "      <td>0</td>\n",
       "      <td>2</td>\n",
       "      <td>1</td>\n",
       "      <td>12</td>\n",
       "      <td>0</td>\n",
       "      <td>985</td>\n",
       "    </tr>\n",
       "  </tbody>\n",
       "</table>\n",
       "</div>"
      ],
      "text/plain": [
       "predict    0    1    2    3    4    5    6    7    8    9\n",
       "label                                                    \n",
       "0        878    5   23   10    6    0   62    0   16    0\n",
       "1          3  985    0    7    3    0    1    0    1    0\n",
       "2         19    1  759    7  158    0   52    0    4    0\n",
       "3         35   28   10  836   57    0   24    0    9    1\n",
       "4          0    1   50   18  893    0   34    0    4    0\n",
       "5          0    0    0    0    0  930    0   27    5   38\n",
       "6        168    2   76   19   99    0  620    0   16    0\n",
       "7          0    0    0    0    0    5    0  905    2   88\n",
       "8          2    0    4    0    4    1    2    5  982    0\n",
       "9          0    0    0    0    0    2    1   12    0  985"
      ]
     },
     "execution_count": 25,
     "metadata": {},
     "output_type": "execute_result"
    }
   ],
   "source": [
    "# 混淆矩阵\n",
    "predict_x=model.predict(x_Test) \n",
    "prediction=np.argmax(predict_x,axis=1)\n",
    "import pandas as pd\n",
    "pd.crosstab(y_test,prediction,\n",
    "            rownames=['label'],colnames=['predict'])"
   ]
  },
  {
   "cell_type": "code",
   "execution_count": 27,
   "id": "c78b7bc1",
   "metadata": {},
   "outputs": [
    {
     "name": "stdout",
     "output_type": "stream",
     "text": [
      "   label  predict\n",
      "0      9        9\n",
      "1      2        2\n",
      "2      1        1\n",
      "3      1        1\n",
      "4      6        6\n"
     ]
    }
   ],
   "source": [
    "df = pd.DataFrame({'label':y_test, 'predict':prediction}) \n",
    "# 类型 pandas.core.frame.DataFrame\n",
    "# 长度为10000\n",
    "print(df[:5]) #显示前5项"
   ]
  },
  {
   "cell_type": "code",
   "execution_count": 37,
   "id": "a050dc0d",
   "metadata": {},
   "outputs": [
    {
     "name": "stdout",
     "output_type": "stream",
     "text": [
      "      label  predict\n",
      "40        6        0\n",
      "286       6        0\n",
      "407       6        0\n",
      "474       6        0\n",
      "563       6        0\n",
      "...     ...      ...\n",
      "9644      6        0\n",
      "9729      6        0\n",
      "9955      6        0\n",
      "9977      6        0\n",
      "9979      6        0\n",
      "\n",
      "[168 rows x 2 columns]\n",
      "      label  predict\n",
      "19        0        0\n",
      "27        0        0\n",
      "35        0        0\n",
      "59        0        0\n",
      "71        0        0\n",
      "...     ...      ...\n",
      "9945      0        0\n",
      "9951      0        0\n",
      "9958      0        0\n",
      "9980      0        0\n",
      "9981      0        0\n",
      "\n",
      "[878 rows x 2 columns]\n"
     ]
    }
   ],
   "source": [
    "a = df[(df.label==6)&(df.predict==0)]\n",
    "print(a)\n",
    "b=df[(df.label==0)&(df.predict==0)]\n",
    "print(b)"
   ]
  },
  {
   "cell_type": "code",
   "execution_count": 40,
   "id": "fde05059",
   "metadata": {},
   "outputs": [
    {
     "data": {
      "image/png": "[encoded data removed]",
      "text/plain": [
       "<Figure size 144x144 with 1 Axes>"
      ]
     },
     "metadata": {
      "needs_background": "light"
     },
     "output_type": "display_data"
    }
   ],
   "source": [
    "# 典型错误图片\n",
    "plot_image(x_train[563])"
   ]
  },
  {
   "cell_type": "code",
   "execution_count": null,
   "id": "f9ccfbca",
   "metadata": {},
   "outputs": [],
   "source": []
  },
  {
   "cell_type": "code",
   "execution_count": null,
   "id": "0cfe526b",
   "metadata": {},
   "outputs": [],
   "source": [
    "# 作业第二周  MLP模型练习fashion_mnist分类操作\n",
    "\n",
    "仿照课件完成fashion_mnist的分类操作：\n",
    "1.练习keras内置数据集fashion_mnist的读取与操作。\n",
    "Fashion-MNIST克隆了MNIST的所有外在特征： 60000张训练图像和对应Label； 10000张测试图像和对应Label； 10个类别；\n",
    "(train_images, train_labels),(test_images,test_labels)= tf.keras.datasets.fashion_mnist.load_data()\n",
    "\n",
    "2.设计一个简单多层感知机网络，训练fashion_mnist的分类操作。\n",
    "(打印loss变化曲线曲线，显示测试集最后的预测准确率、混淆矩阵、典型误判图像等)\n",
    "\n",
    "#首先执行GPU资源分配代码，勿删除。\n",
    "import GPU\n",
    "GPU.show()\n",
    "GPU.alloc(0,512)\n",
    "\n",
    "import tensorflow as tf\n",
    "import keras\n",
    "import numpy as np\n",
    "from keras.utils import np_utils\n",
    "from keras.datasets import fashion_mnist\n",
    "(x_train,y_train),(x_test,y_test)=fashion_mnist.load_data()\n",
    "\n",
    "num_epochs = 1        #训练的周期\n",
    "batch_size = 100      #批训练的数量\n",
    "learning_rate = 0.001 #学习率（0.1,0.01,0.001）\n",
    "\n",
    "import matplotlib.pyplot as plt\n",
    "def plot_image(image):\n",
    "    fig = plt.gcf()\n",
    "    fig.set_size_inches(2, 2) # 设置图片大小\n",
    "    plt.imshow(image, cmap='binary') #显示灰度图\n",
    "    plt.show()\n",
    "plot_image(x_train[0])\n",
    "\n",
    "\n",
    "\n",
    "x_Train =x_train.reshape(60000, 784).astype('float32')\n",
    "x_Test = x_test.reshape(10000, 784).astype('float32')\n",
    "\n",
    "\n",
    "\n",
    "x_Train_normalize = x_Train/ 255\n",
    "x_Test_normalize = x_Test/ 255\n",
    "\n",
    "y_TrainOneHot = np_utils.to_categorical(y_train)\n",
    "y_TestOneHot = np_utils.to_categorical(y_test)\n",
    "y_TrainOneHot[:3]\n",
    "\n",
    "from keras.models import Sequential\n",
    "from keras.layers import Dense\n",
    "\n",
    " #后续的组件用model.add的方法\n",
    "model = Sequential()\n",
    "\n",
    "# 建立输入层和隐藏层\n",
    "model.add(Dense(units=256, #隐藏层神经元个数256\n",
    "                input_dim=784, #输入层784\n",
    "                kernel_initializer='normal',#正态分布的随机数来初始化weight and bias\n",
    "                activation='relu')) # activation function is relu\n",
    "# 建立输出层\n",
    "model.add(Dense(units=10, #输出层的神经元个数为10个\n",
    "                kernel_initializer='normal', #正态分布的随机数来初始化weight and bias\n",
    "                activation='softmax'))# 激活函数为softmax，其可将输出转化为预测的概率\n",
    "\n",
    "\n",
    "print(model.summary())\n",
    "\n",
    "model.compile(loss='categorical_crossentropy',optimizer='adam', metrics=['accuracy'])\n",
    "\n",
    "train_history =model.fit(x=x_Train_normalize,\n",
    "                         y=y_TrainOneHot,validation_split=0.2, \n",
    "                         epochs=20, batch_size=200,verbose=2)\n",
    "\n",
    "\n",
    "import matplotlib.pyplot as plt\n",
    "def show_train_history(train_history,train,validation):\n",
    "    plt.plot(train_history.history[train])\n",
    "    plt.plot(train_history.history[validation])\n",
    "    plt.title('Train History')\n",
    "    plt.ylabel(train)\n",
    "    plt.xlabel('Epoch')\n",
    "    plt.legend(['train', 'validation'], loc='upper left')\n",
    "    \n",
    "    plt.show()\n",
    "show_train_history(train_history,'accuracy','val_accuracy')\n",
    "\n",
    "show_train_history(train_history,'loss','val_loss')\n",
    "\n",
    "scores = model.evaluate(x_Test_normalize, y_TestOneHot)\n",
    "print()\n",
    "print('accuracy=',scores[1])\n",
    "\n",
    "from sklearn.metrics import confusion_matrix\n",
    "import itertools\n",
    "def plot_confusion_matrix(cm, classes,\n",
    "                          title='Confusion matrix',\n",
    "                          cmap=plt.cm.jet):\n",
    "    cm = cm.astype('float') / cm.sum(axis=1)[:, np.newaxis]\n",
    "    plt.imshow(cm, interpolation='nearest', cmap=cmap)\n",
    "    plt.title(title)\n",
    "    plt.colorbar()\n",
    "    tick_marks = np.arange(len(classes))\n",
    "    plt.xticks(tick_marks, classes, rotation=45)\n",
    "    plt.yticks(tick_marks, classes)\n",
    "    thresh = cm.max() / 2.\n",
    "    for i, j in itertools.product(range(cm.shape[0]), range(cm.shape[1])):\n",
    "        plt.text(j, i, '{:.2f}'.format(cm[i, j]), horizontalalignment=\"center\",\n",
    "                 color=\"white\" if cm[i, j] > thresh else \"black\")\n",
    "    plt.tight_layout()\n",
    "    plt.ylabel('True label')\n",
    "    plt.xlabel('Predicted label')\n",
    "    plt.show()\n",
    "\n",
    "# 显示混淆矩阵\n",
    "def plot_confuse(model, x_val, y_val):\n",
    "    predict_x=model.predict(x_val) \n",
    "    predictions=np.argmax(predict_x,axis=1)\n",
    "    truelabel = y_val.argmax(axis=-1)   # 将one-hot转化为label\n",
    "    conf_mat = confusion_matrix(y_true=truelabel, y_pred=predictions)\n",
    "    plt.figure()\n",
    "    plot_confusion_matrix(conf_mat, range(np.max(truelabel)+1))\n",
    "\n",
    "    \n",
    "plot_confuse(model, x_Test_normalize, y_TestOneHot)\n",
    "\n",
    "# 混淆矩阵\n",
    "predict_x=model.predict(x_Test) \n",
    "prediction=np.argmax(predict_x,axis=1)\n",
    "import pandas as pd\n",
    "pd.crosstab(y_test,prediction,\n",
    "            rownames=['label'],colnames=['predict'])\n",
    "\n",
    "df = pd.DataFrame({'label':y_test, 'predict':prediction}) \n",
    "# 类型 pandas.core.frame.DataFrame\n",
    "# 长度为10000\n",
    "print(df[:5]) #显示前5项\n",
    "\n",
    "a = df[(df.label==6)&(df.predict==0)]\n",
    "print(a)\n",
    "b=df[(df.label==0)&(df.predict==0)]\n",
    "print(b)\n",
    "\n",
    "# 典型错误图片\n",
    "plot_image(x_train[563])\n",
    "\n"
   ]
  }
 ],
 "metadata": {
  "kernelspec": {
   "display_name": "Python 3 (ipykernel)",
   "language": "python",
   "name": "python3"
  },
  "language_info": {
   "codemirror_mode": {
    "name": "ipython",
    "version": 3
   },
   "file_extension": ".py",
   "mimetype": "text/x-python",
   "name": "python",
   "nbconvert_exporter": "python",
   "pygments_lexer": "ipython3",
   "version": "3.9.13"
  }
 },
 "nbformat": 4,
 "nbformat_minor": 5
}
